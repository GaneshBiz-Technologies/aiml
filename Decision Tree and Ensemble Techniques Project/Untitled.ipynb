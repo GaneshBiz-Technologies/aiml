{
 "cells": [
  {
   "cell_type": "code",
   "execution_count": 8,
   "id": "fb80f631-8d01-4a56-b12a-485ea09674b4",
   "metadata": {},
   "outputs": [
    {
     "data": {
      "text/plain": [
       "array([[2.82842712, 2.06155281],\n",
       "       [2.        , 0.5       ],\n",
       "       [3.16227766, 3.35410197]])"
      ]
     },
     "execution_count": 8,
     "metadata": {},
     "output_type": "execute_result"
    }
   ],
   "source": [
    "import numpy as np\n",
    "from sklearn.metrics import DistanceMetric\n",
    "dist = DistanceMetric.get_metric('euclidean')\n",
    "X = [[0,1], [2, 1], [-1, 2]]\n",
    "Y = [[2, 3], [2, 0.5]]\n",
    "dist.pairwise(X,Y)"
   ]
  },
  {
   "cell_type": "code",
   "execution_count": 2,
   "id": "b4109498-5726-4590-a2d0-8883c71a4e0a",
   "metadata": {},
   "outputs": [
    {
     "data": {
      "text/plain": [
       "array([[12., 16.],\n",
       "       [ 8., 12.],\n",
       "       [ 4.,  8.]])"
      ]
     },
     "execution_count": 2,
     "metadata": {},
     "output_type": "execute_result"
    }
   ],
   "source": [
    "dist = DistanceMetric.get_metric('manhattan')\n",
    "X = [[1, 2], [3, 4], [5, 6]]\n",
    "Y = [[7, 8], [9, 10]]\n",
    "dist.pairwise(X,Y)"
   ]
  },
  {
   "cell_type": "code",
   "execution_count": 14,
   "id": "f424a41a-4403-48bf-ae52-5742eebec89a",
   "metadata": {},
   "outputs": [
    {
     "data": {
      "text/plain": [
       "array([[4.]])"
      ]
     },
     "execution_count": 14,
     "metadata": {},
     "output_type": "execute_result"
    }
   ],
   "source": [
    "dist = DistanceMetric.get_metric('euclidean')\n",
    "X = [[4,4]]\n",
    "Y = [[4, 0]]\n",
    "dist.pairwise(X,Y)"
   ]
  },
  {
   "cell_type": "code",
   "execution_count": 12,
   "id": "85406c37-6f0f-47d8-8a40-08924ea07319",
   "metadata": {},
   "outputs": [
    {
     "data": {
      "text/plain": [
       "(4.0, 2.3333333333333335)"
      ]
     },
     "execution_count": 12,
     "metadata": {},
     "output_type": "execute_result"
    }
   ],
   "source": [
    "x = [3, 5, 4]\n",
    "y = [0, 1, 6]\n",
    "center = sum(x)/len(x), sum(y)/len(y)\n",
    "center"
   ]
  },
  {
   "cell_type": "code",
   "execution_count": 15,
   "id": "960110e9-68e4-4b7f-943d-69df161005f8",
   "metadata": {},
   "outputs": [
    {
     "data": {
      "text/plain": [
       "array([[4.]])"
      ]
     },
     "execution_count": 15,
     "metadata": {},
     "output_type": "execute_result"
    }
   ],
   "source": [
    "centroids = [[1,1], [2,1], [2,-1]]\n",
    "points =  [[1,2]]\n",
    "dist = DistanceMetric.get_metric('euclidean')\n",
    "dist.pairwise(X,Y)"
   ]
  },
  {
   "cell_type": "code",
   "execution_count": null,
   "id": "23c20765-c403-41f2-9650-9b8bd932bebc",
   "metadata": {},
   "outputs": [],
   "source": []
  }
 ],
 "metadata": {
  "kernelspec": {
   "display_name": "Python 3 (ipykernel)",
   "language": "python",
   "name": "python3"
  },
  "language_info": {
   "codemirror_mode": {
    "name": "ipython",
    "version": 3
   },
   "file_extension": ".py",
   "mimetype": "text/x-python",
   "name": "python",
   "nbconvert_exporter": "python",
   "pygments_lexer": "ipython3",
   "version": "3.11.5"
  }
 },
 "nbformat": 4,
 "nbformat_minor": 5
}
